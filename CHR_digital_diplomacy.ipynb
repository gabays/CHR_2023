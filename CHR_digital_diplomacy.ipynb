{
  "nbformat": 4,
  "nbformat_minor": 0,
  "metadata": {
    "colab": {
      "provenance": [],
      "gpuType": "T4"
    },
    "kernelspec": {
      "name": "python3",
      "display_name": "Python 3"
    },
    "language_info": {
      "name": "python"
    },
    "accelerator": "GPU"
  },
  "cells": [
    {
      "cell_type": "markdown",
      "source": [
        "# Transforming archives into data-driven analyses\n",
        "\n",
        "[CHR 2023](https://2023.computational-humanities-research.org/) Workshop\n",
        "\n",
        "Florian Cafiero, Jean-Luc Falcone and Simon Gabay\n",
        "\n",
        "<img alt=\"Licence Creative Commons\" style=\"border-width:0\" src=\"https://i.creativecommons.org/l/by-sa/4.0/88x31.png\" align=\"right\"/>"
      ],
      "metadata": {
        "id": "z0nCdzCSYePV"
      }
    },
    {
      "cell_type": "markdown",
      "source": [
        "## Image Segmentation\n",
        "\n",
        "We download [from the Digital Library of the UN](https://digitallibrary.un.org/record/196769) a resolution (`A_RES_45_212-EN`) on the _Protection of global climate for present and future generations of mankind_."
      ],
      "metadata": {
        "id": "5b6My2yBa9GX"
      }
    },
    {
      "cell_type": "code",
      "source": [
        "!wget https://digitallibrary.un.org/record/196769/files/A_RES_45_212-EN.pdf?ln=fr\n",
        "# Change the name to simplify manipulations\n",
        "!mv A_RES_45_212-EN.pdf?ln=fr resolution.pdf\n",
        "# Convert pdf into images\n",
        "!pip install pdf2image\n",
        "!apt-get install poppler-utils\n",
        "from pdf2image import convert_from_path\n",
        "# Choose resolution\n",
        "dpi = 500 # dots per inch\n",
        "pdf_file = '/content/resolution.pdf'\n",
        "pages = convert_from_path(pdf_file ,dpi)\n",
        "# Convert images\n",
        "for i in range(len(pages)):\n",
        "   page = pages[i]\n",
        "   page.save('output_{}.jpg'.format(i), 'JPEG')\n",
        "# Save the result\n",
        "!mkdir /content/images\n",
        "!mv output_*.jpg images\n",
        "!rm /content/resolution.pdf"
      ],
      "metadata": {
        "id": "hR-lTrnKeD4x"
      },
      "execution_count": null,
      "outputs": []
    },
    {
      "cell_type": "markdown",
      "source": [
        "Let's have a look at the this resolution now. Here is the forst page:"
      ],
      "metadata": {
        "id": "OQNxmOVji8tT"
      }
    },
    {
      "cell_type": "code",
      "source": [
        "from matplotlib import pyplot as plt\n",
        "from matplotlib import image as mpimg\n",
        "image = mpimg.imread(\"/content/images/output_0.jpg\")\n",
        "plt.figure(figsize=(30, 12), dpi=100)\n",
        "plt.imshow(image)\n",
        "plt.gca().axes.get_yaxis().set_visible(False)\n",
        "plt.show()"
      ],
      "metadata": {
        "id": "ENttfHoLjU2S"
      },
      "execution_count": null,
      "outputs": []
    },
    {
      "cell_type": "markdown",
      "source": [
        "To segment the image, we are going to use [YALTAi](https://github.com/PonteIneptique/YALTAi) developped by Thibault Clérice (more info: [arXiv.2207.11230](https://doi.org/10.48550/arXiv.2207.11230))"
      ],
      "metadata": {
        "id": "nkCVRRe5h_4D"
      }
    },
    {
      "cell_type": "code",
      "execution_count": null,
      "metadata": {
        "id": "SuU6nNH4X_gi"
      },
      "outputs": [],
      "source": [
        "!pip install YALTAi"
      ]
    },
    {
      "cell_type": "markdown",
      "source": [
        "Some models are already available. We are going to use of model for historical French prints (16th c.-18th c.) trained at the University of Geneva by Maxime Humeau"
      ],
      "metadata": {
        "id": "j8-fF0KIiPsM"
      }
    },
    {
      "cell_type": "code",
      "source": [
        "# Download the model\n",
        "!wget https://github.com/rayondemiel/Yolov8-Segmonto/releases/download/yolov8/remaining_goat_6779_best.pt\n",
        "!mv remaining_goat_6779_best.pt seg_model.pt\n",
        "#Load the model\n",
        "from ultralytics import YOLO\n",
        "model = YOLO(\"/content/seg_model.pt\")\n",
        "model.to('cuda') # to use GPU\n",
        "model.info()\n",
        "model.fuse()"
      ],
      "metadata": {
        "id": "jsvJAq7lhxCO"
      },
      "execution_count": null,
      "outputs": []
    },
    {
      "cell_type": "markdown",
      "source": [
        "Let's use it"
      ],
      "metadata": {
        "id": "zysSkuiMlaWV"
      }
    },
    {
      "cell_type": "code",
      "source": [
        "from PIL import Image\n",
        "#Load the image\n",
        "#img = \"/content/images/output_0.jpg\"\n",
        "img = \"/content/images/\"\n",
        "# Prediction\n",
        "results = model(img)\n",
        "#Plot the result\n",
        "for r in results:\n",
        "    im_array = r.plot(conf=True)  # plot a BGR numpy array of predictions\n",
        "    im = Image.fromarray(im_array[..., ::-1])  # RGB PIL image\n",
        "    plt.figure(figsize=(30, 12), dpi=100)\n",
        "    plt.imshow(im)\n",
        "    plt.gca().axes.get_yaxis().set_visible(False)\n",
        "    plt.show()"
      ],
      "metadata": {
        "id": "nroZfyS7lbzX"
      },
      "execution_count": null,
      "outputs": []
    },
    {
      "cell_type": "markdown",
      "source": [
        "## Optical character recognition\n",
        "\n",
        "Now we extract the text With Tesseract"
      ],
      "metadata": {
        "id": "sHkL8ZedpUmj"
      }
    },
    {
      "cell_type": "code",
      "source": [
        "!sudo apt install tesseract-ocr\n",
        "!pip install pytesseract\n",
        "import pytesseract\n",
        "import shutil\n",
        "import os\n",
        "import random"
      ],
      "metadata": {
        "id": "1AwDllWFo3vG"
      },
      "execution_count": null,
      "outputs": []
    },
    {
      "cell_type": "code",
      "source": [
        "image_path_in_colab=\"/content/images/output_0.jpg\"\n",
        "extractedInformation = pytesseract.image_to_string(Image.open(image_path_in_colab))\n",
        "print(extractedInformation)\n",
        "print(pytesseract.image_to_boxes(Image.open(image_path_in_colab)))\n"
      ],
      "metadata": {
        "id": "3Bnm7rHwpX_M"
      },
      "execution_count": null,
      "outputs": []
    },
    {
      "cell_type": "code",
      "source": [
        "!pip install kraken"
      ],
      "metadata": {
        "id": "GVJ_qYppqWjI"
      },
      "execution_count": null,
      "outputs": []
    },
    {
      "cell_type": "code",
      "source": [
        "!yaltai kraken --device cuda:0 --device cpu -I \"/content/images/output_0.jpg\" --suffix \".xml\" segment --yolo /content/seg_model.pt\n",
        "!mkdir segmented\n",
        "!mv /content/images/*.xml segmented"
      ],
      "metadata": {
        "id": "x9VGzuXXq6Vg"
      },
      "execution_count": null,
      "outputs": []
    },
    {
      "cell_type": "code",
      "source": [
        "!pip install torch==2.1.0"
      ],
      "metadata": {
        "id": "CYDnDT2srGBS"
      },
      "execution_count": null,
      "outputs": []
    }
  ]
}